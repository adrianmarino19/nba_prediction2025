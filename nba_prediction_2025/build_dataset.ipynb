{
 "cells": [
  {
   "cell_type": "markdown",
   "id": "f634254c",
   "metadata": {},
   "source": [
    "# Games to ELO strat"
   ]
  },
  {
   "cell_type": "markdown",
   "id": "55b3be1b",
   "metadata": {},
   "source": [
    "## Exploring ELO dataset"
   ]
  },
  {
   "cell_type": "code",
   "execution_count": 126,
   "id": "afa71db1",
   "metadata": {},
   "outputs": [
    {
     "data": {
      "text/plain": [
       "Index(['gameorder', 'game_id', 'lg_id', '_iscopy', 'year_id', 'date_game',\n",
       "       'seasongame', 'is_playoffs', 'team_id', 'fran_id', 'pts', 'elo_i',\n",
       "       'elo_n', 'win_equiv', 'opp_id', 'opp_fran', 'opp_pts', 'opp_elo_i',\n",
       "       'opp_elo_n', 'game_location', 'game_result', 'forecast', 'notes'],\n",
       "      dtype='object')"
      ]
     },
     "execution_count": 126,
     "metadata": {},
     "output_type": "execute_result"
    }
   ],
   "source": [
    "elo.columns"
   ]
  },
  {
   "cell_type": "code",
   "execution_count": null,
   "id": "32ee0f43",
   "metadata": {},
   "outputs": [
    {
     "data": {
      "text/plain": [
       "year_id\n",
       "1947     700\n",
       "1948     430\n",
       "1949     760\n",
       "1950    1186\n",
       "1951     760\n",
       "1952     710\n",
       "1953     748\n",
       "1954     694\n",
       "1955     618\n",
       "1956     622\n",
       "1957     614\n",
       "1958     618\n",
       "1959     620\n",
       "1960     650\n",
       "1961     682\n",
       "1962     778\n",
       "1963     778\n",
       "1964     774\n",
       "1965     772\n",
       "1966     774\n",
       "1967     872\n",
       "1968    1988\n",
       "1969    2168\n",
       "1970    2232\n",
       "1971    2480\n",
       "1972    2474\n",
       "1973    2394\n",
       "1974    2394\n",
       "1975    2490\n",
       "1976    2236\n",
       "1977    1910\n",
       "1978    1906\n",
       "1979    1910\n",
       "1980    1900\n",
       "1981    1992\n",
       "1982    1980\n",
       "1983    1972\n",
       "1984    2044\n",
       "1985    2022\n",
       "1986    2022\n",
       "1987    2028\n",
       "1988    2046\n",
       "1989    2174\n",
       "1990    2358\n",
       "1991    2350\n",
       "1992    2360\n",
       "1993    2366\n",
       "1994    2368\n",
       "1995    2360\n",
       "1996    2514\n",
       "1997    2522\n",
       "1998    2520\n",
       "1999    1582\n",
       "2000    2528\n",
       "2001    2520\n",
       "2002    2520\n",
       "2003    2554\n",
       "2004    2542\n",
       "2005    2628\n",
       "2006    2638\n",
       "2007    2618\n",
       "2008    2632\n",
       "2009    2630\n",
       "2010    2624\n",
       "2011    2622\n",
       "2012    2148\n",
       "2013    2628\n",
       "2014    2638\n",
       "2015    2622\n",
       "dtype: int64"
      ]
     },
     "execution_count": 133,
     "metadata": {},
     "output_type": "execute_result"
    }
   ],
   "source": [
    "# I want to know if all games per season are recorded here...\n",
    "\n",
    "elo['date_game'] = pd.to_datetime(elo['date_game']) # changing to datetime format.\n",
    "\n",
    "elo.groupby('year_id').size()\n",
    "\n",
    "# There are 'currently' 2460 NBA games + playoffs (which vary).\n",
    "# It has always been a best-of-seven tournament.\n",
    "# NBA has been expanding. There have been different number of teams per year. Since 04 same number."
   ]
  },
  {
   "cell_type": "code",
   "execution_count": null,
   "id": "fa94f0b4",
   "metadata": {},
   "outputs": [],
   "source": [
    "# Let's merge with relevant stats"
   ]
  },
  {
   "cell_type": "markdown",
   "id": "9ab0925d",
   "metadata": {},
   "source": [
    "## Merging with relevant stats"
   ]
  },
  {
   "cell_type": "code",
   "execution_count": null,
   "id": "afaa828b",
   "metadata": {},
   "outputs": [],
   "source": [
    "# The first step is importing relevant files.\n",
    "import nbimporter\n",
    "from test"
   ]
  }
 ],
 "metadata": {
  "kernelspec": {
   "display_name": "lewagon",
   "language": "python",
   "name": "python3"
  },
  "language_info": {
   "codemirror_mode": {
    "name": "ipython",
    "version": 3
   },
   "file_extension": ".py",
   "mimetype": "text/x-python",
   "name": "python",
   "nbconvert_exporter": "python",
   "pygments_lexer": "ipython3",
   "version": "3.10.6"
  }
 },
 "nbformat": 4,
 "nbformat_minor": 5
}

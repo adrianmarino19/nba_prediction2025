{
 "cells": [
  {
   "cell_type": "code",
   "execution_count": 4,
   "id": "f7bfcffc",
   "metadata": {},
   "outputs": [],
   "source": [
    "import pandas as pd\n",
    "import numpy as np\n"
   ]
  },
  {
   "cell_type": "code",
   "execution_count": 1,
   "id": "b25734b8",
   "metadata": {},
   "outputs": [
    {
     "name": "stdout",
     "output_type": "stream",
     "text": [
      "Downloading from https://www.kaggle.com/api/v1/datasets/download/mharvnek/nba-team-stats-00-to-18?dataset_version_number=5...\n"
     ]
    },
    {
     "name": "stderr",
     "output_type": "stream",
     "text": [
      "100%|██████████| 55.8k/55.8k [00:00<00:00, 873kB/s]"
     ]
    },
    {
     "name": "stdout",
     "output_type": "stream",
     "text": [
      "Extracting files...\n",
      "Path to dataset files: /Users/adri/.cache/kagglehub/datasets/mharvnek/nba-team-stats-00-to-18/versions/5\n"
     ]
    },
    {
     "name": "stderr",
     "output_type": "stream",
     "text": [
      "\n"
     ]
    }
   ],
   "source": [
    "import kagglehub\n",
    "\n",
    "# Download latest version\n",
    "path = kagglehub.dataset_download(\"mharvnek/nba-team-stats-00-to-18\")\n",
    "\n",
    "print(\"Path to dataset files:\", path)"
   ]
  },
  {
   "cell_type": "code",
   "execution_count": 7,
   "id": "847c4277",
   "metadata": {},
   "outputs": [
    {
     "name": "stdout",
     "output_type": "stream",
     "text": [
      "['nba_team_stats_playoffs_00_to_21.csv', 'nba_team_stats_00_to_23.csv']\n"
     ]
    },
    {
     "data": {
      "text/html": [
       "<div>\n",
       "<style scoped>\n",
       "    .dataframe tbody tr th:only-of-type {\n",
       "        vertical-align: middle;\n",
       "    }\n",
       "\n",
       "    .dataframe tbody tr th {\n",
       "        vertical-align: top;\n",
       "    }\n",
       "\n",
       "    .dataframe thead th {\n",
       "        text-align: right;\n",
       "    }\n",
       "</style>\n",
       "<table border=\"1\" class=\"dataframe\">\n",
       "  <thead>\n",
       "    <tr style=\"text-align: right;\">\n",
       "      <th></th>\n",
       "      <th>teamstatspk</th>\n",
       "      <th>Team</th>\n",
       "      <th>games_played</th>\n",
       "      <th>wins</th>\n",
       "      <th>losses</th>\n",
       "      <th>win_percentage</th>\n",
       "      <th>Min</th>\n",
       "      <th>points</th>\n",
       "      <th>field_goals_made</th>\n",
       "      <th>field_goals_attempted</th>\n",
       "      <th>...</th>\n",
       "      <th>rebounds</th>\n",
       "      <th>assists</th>\n",
       "      <th>turnovers</th>\n",
       "      <th>steals</th>\n",
       "      <th>blocks</th>\n",
       "      <th>blocks_attempted</th>\n",
       "      <th>personal_fouls</th>\n",
       "      <th>personal_fouls_drawn</th>\n",
       "      <th>plus_minus</th>\n",
       "      <th>season</th>\n",
       "    </tr>\n",
       "  </thead>\n",
       "  <tbody>\n",
       "    <tr>\n",
       "      <th>0</th>\n",
       "      <td>0</td>\n",
       "      <td>Boston Celtics</td>\n",
       "      <td>82</td>\n",
       "      <td>64</td>\n",
       "      <td>18</td>\n",
       "      <td>0.780</td>\n",
       "      <td>3966</td>\n",
       "      <td>9887</td>\n",
       "      <td>3601</td>\n",
       "      <td>7396</td>\n",
       "      <td>...</td>\n",
       "      <td>3799</td>\n",
       "      <td>2207</td>\n",
       "      <td>979</td>\n",
       "      <td>557</td>\n",
       "      <td>538</td>\n",
       "      <td>304</td>\n",
       "      <td>1326</td>\n",
       "      <td>1416</td>\n",
       "      <td>930</td>\n",
       "      <td>2023-24</td>\n",
       "    </tr>\n",
       "    <tr>\n",
       "      <th>1</th>\n",
       "      <td>1</td>\n",
       "      <td>Denver Nuggets</td>\n",
       "      <td>82</td>\n",
       "      <td>57</td>\n",
       "      <td>25</td>\n",
       "      <td>0.695</td>\n",
       "      <td>3941</td>\n",
       "      <td>9418</td>\n",
       "      <td>3610</td>\n",
       "      <td>7279</td>\n",
       "      <td>...</td>\n",
       "      <td>3643</td>\n",
       "      <td>2415</td>\n",
       "      <td>1036</td>\n",
       "      <td>585</td>\n",
       "      <td>456</td>\n",
       "      <td>394</td>\n",
       "      <td>1489</td>\n",
       "      <td>1467</td>\n",
       "      <td>431</td>\n",
       "      <td>2023-24</td>\n",
       "    </tr>\n",
       "    <tr>\n",
       "      <th>2</th>\n",
       "      <td>2</td>\n",
       "      <td>Oklahoma City Thunder</td>\n",
       "      <td>82</td>\n",
       "      <td>57</td>\n",
       "      <td>25</td>\n",
       "      <td>0.695</td>\n",
       "      <td>3961</td>\n",
       "      <td>9847</td>\n",
       "      <td>3653</td>\n",
       "      <td>7324</td>\n",
       "      <td>...</td>\n",
       "      <td>3447</td>\n",
       "      <td>2223</td>\n",
       "      <td>1039</td>\n",
       "      <td>694</td>\n",
       "      <td>538</td>\n",
       "      <td>419</td>\n",
       "      <td>1545</td>\n",
       "      <td>1548</td>\n",
       "      <td>608</td>\n",
       "      <td>2023-24</td>\n",
       "    </tr>\n",
       "    <tr>\n",
       "      <th>3</th>\n",
       "      <td>3</td>\n",
       "      <td>Minnesota Timberwolves</td>\n",
       "      <td>82</td>\n",
       "      <td>56</td>\n",
       "      <td>26</td>\n",
       "      <td>0.683</td>\n",
       "      <td>3961</td>\n",
       "      <td>9264</td>\n",
       "      <td>3383</td>\n",
       "      <td>6974</td>\n",
       "      <td>...</td>\n",
       "      <td>3577</td>\n",
       "      <td>2184</td>\n",
       "      <td>1162</td>\n",
       "      <td>647</td>\n",
       "      <td>497</td>\n",
       "      <td>371</td>\n",
       "      <td>1544</td>\n",
       "      <td>1630</td>\n",
       "      <td>529</td>\n",
       "      <td>2023-24</td>\n",
       "    </tr>\n",
       "    <tr>\n",
       "      <th>4</th>\n",
       "      <td>4</td>\n",
       "      <td>LA Clippers</td>\n",
       "      <td>82</td>\n",
       "      <td>51</td>\n",
       "      <td>31</td>\n",
       "      <td>0.622</td>\n",
       "      <td>3941</td>\n",
       "      <td>9481</td>\n",
       "      <td>3473</td>\n",
       "      <td>7108</td>\n",
       "      <td>...</td>\n",
       "      <td>3523</td>\n",
       "      <td>2097</td>\n",
       "      <td>1078</td>\n",
       "      <td>640</td>\n",
       "      <td>413</td>\n",
       "      <td>384</td>\n",
       "      <td>1519</td>\n",
       "      <td>1537</td>\n",
       "      <td>269</td>\n",
       "      <td>2023-24</td>\n",
       "    </tr>\n",
       "  </tbody>\n",
       "</table>\n",
       "<p>5 rows × 29 columns</p>\n",
       "</div>"
      ],
      "text/plain": [
       "   teamstatspk                    Team  games_played  wins  losses  \\\n",
       "0            0          Boston Celtics            82    64      18   \n",
       "1            1          Denver Nuggets            82    57      25   \n",
       "2            2   Oklahoma City Thunder            82    57      25   \n",
       "3            3  Minnesota Timberwolves            82    56      26   \n",
       "4            4             LA Clippers            82    51      31   \n",
       "\n",
       "   win_percentage   Min  points  field_goals_made  field_goals_attempted  ...  \\\n",
       "0           0.780  3966    9887              3601                   7396  ...   \n",
       "1           0.695  3941    9418              3610                   7279  ...   \n",
       "2           0.695  3961    9847              3653                   7324  ...   \n",
       "3           0.683  3961    9264              3383                   6974  ...   \n",
       "4           0.622  3941    9481              3473                   7108  ...   \n",
       "\n",
       "   rebounds  assists  turnovers  steals  blocks  blocks_attempted  \\\n",
       "0      3799     2207        979     557     538               304   \n",
       "1      3643     2415       1036     585     456               394   \n",
       "2      3447     2223       1039     694     538               419   \n",
       "3      3577     2184       1162     647     497               371   \n",
       "4      3523     2097       1078     640     413               384   \n",
       "\n",
       "   personal_fouls  personal_fouls_drawn  plus_minus   season  \n",
       "0            1326                  1416         930  2023-24  \n",
       "1            1489                  1467         431  2023-24  \n",
       "2            1545                  1548         608  2023-24  \n",
       "3            1544                  1630         529  2023-24  \n",
       "4            1519                  1537         269  2023-24  \n",
       "\n",
       "[5 rows x 29 columns]"
      ]
     },
     "execution_count": 7,
     "metadata": {},
     "output_type": "execute_result"
    }
   ],
   "source": [
    "import os\n",
    "\n",
    "# List all files in the downloaded path\n",
    "print(os.listdir(path))\n",
    "\n",
    "# Example: load a CSV (adjust filename if needed)\n",
    "df = pd.read_csv(os.path.join(path, \"nba_team_stats_00_to_23.csv\"))\n",
    "df.head()"
   ]
  },
  {
   "cell_type": "code",
   "execution_count": 8,
   "id": "a9f4a1d6",
   "metadata": {},
   "outputs": [
    {
     "data": {
      "text/plain": [
       "Index(['teamstatspk', 'Team', 'games_played', 'wins', 'losses',\n",
       "       'win_percentage', 'Min', 'points', 'field_goals_made',\n",
       "       'field_goals_attempted', 'field_goal_percentage', 'three_pointers_made',\n",
       "       'three_pointers_attempted', 'three_point_percentage',\n",
       "       'free_throws_made', 'free_throw_attempted', 'free_throw_percentage',\n",
       "       'offensive_rebounds', 'defensive_rebounds', 'rebounds', 'assists',\n",
       "       'turnovers', 'steals', 'blocks', 'blocks_attempted', 'personal_fouls',\n",
       "       'personal_fouls_drawn', 'plus_minus', 'season'],\n",
       "      dtype='object')"
      ]
     },
     "execution_count": 8,
     "metadata": {},
     "output_type": "execute_result"
    }
   ],
   "source": [
    "df.columns"
   ]
  },
  {
   "cell_type": "code",
   "execution_count": null,
   "id": "9929eb6b",
   "metadata": {},
   "outputs": [],
   "source": []
  }
 ],
 "metadata": {
  "kernelspec": {
   "display_name": "lewagon",
   "language": "python",
   "name": "python3"
  },
  "language_info": {
   "codemirror_mode": {
    "name": "ipython",
    "version": 3
   },
   "file_extension": ".py",
   "mimetype": "text/x-python",
   "name": "python",
   "nbconvert_exporter": "python",
   "pygments_lexer": "ipython3",
   "version": "3.10.6"
  }
 },
 "nbformat": 4,
 "nbformat_minor": 5
}

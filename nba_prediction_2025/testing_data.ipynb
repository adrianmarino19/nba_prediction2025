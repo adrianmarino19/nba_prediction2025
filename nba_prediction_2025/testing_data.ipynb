{
 "cells": [
  {
   "cell_type": "code",
   "execution_count": 2,
   "id": "ed898445",
   "metadata": {},
   "outputs": [],
   "source": [
    "import pandas as pd\n",
    "import numpy as np\n",
    "import sqlite3"
   ]
  },
  {
   "cell_type": "code",
   "execution_count": 3,
   "id": "6d63e276",
   "metadata": {},
   "outputs": [],
   "source": [
    "# Connect!\n",
    "\n",
    "conn = sqlite3.connect('nba.sqlite')"
   ]
  },
  {
   "cell_type": "code",
   "execution_count": 5,
   "id": "ea298c12",
   "metadata": {},
   "outputs": [],
   "source": [
    "games = pd.read_sql(\"SELECT * FROM game\", conn)\n",
    "teams = pd.read_sql(\"SELECT * FROM team\", conn)\n",
    "# team_stats = pd.read_sql(\"SELECT * FROM team_stats\", conn)"
   ]
  },
  {
   "cell_type": "code",
   "execution_count": 10,
   "id": "04e3086d",
   "metadata": {},
   "outputs": [
    {
     "name": "stdout",
     "output_type": "stream",
     "text": [
      "['game', 'game_summary', 'other_stats', 'officials', 'inactive_players', 'game_info', 'line_score', 'play_by_play', 'player', 'team', 'common_player_info', 'team_details', 'team_history', 'draft_combine_stats', 'draft_history', 'team_info_common']\n"
     ]
    }
   ],
   "source": [
    "tables = conn.execute(\"SELECT name FROM sqlite_master WHERE type='table';\").fetchall()\n",
    "print([t[0] for t in tables])"
   ]
  },
  {
   "cell_type": "code",
   "execution_count": null,
   "id": "89d6263a",
   "metadata": {},
   "outputs": [],
   "source": [
    "other = pd.read_sql(\"SELECT * FROM other_stats\", conn)"
   ]
  },
  {
   "cell_type": "code",
   "execution_count": null,
   "id": "e52224c3",
   "metadata": {},
   "outputs": [
    {
     "data": {
      "text/html": [
       "<div>\n",
       "<style scoped>\n",
       "    .dataframe tbody tr th:only-of-type {\n",
       "        vertical-align: middle;\n",
       "    }\n",
       "\n",
       "    .dataframe tbody tr th {\n",
       "        vertical-align: top;\n",
       "    }\n",
       "\n",
       "    .dataframe thead th {\n",
       "        text-align: right;\n",
       "    }\n",
       "</style>\n",
       "<table border=\"1\" class=\"dataframe\">\n",
       "  <thead>\n",
       "    <tr style=\"text-align: right;\">\n",
       "      <th></th>\n",
       "      <th>season_id</th>\n",
       "      <th>team_id_home</th>\n",
       "      <th>team_abbreviation_home</th>\n",
       "      <th>team_name_home</th>\n",
       "      <th>game_id</th>\n",
       "      <th>game_date</th>\n",
       "      <th>matchup_home</th>\n",
       "      <th>wl_home</th>\n",
       "      <th>min</th>\n",
       "      <th>fgm_home</th>\n",
       "      <th>...</th>\n",
       "      <th>reb_away</th>\n",
       "      <th>ast_away</th>\n",
       "      <th>stl_away</th>\n",
       "      <th>blk_away</th>\n",
       "      <th>tov_away</th>\n",
       "      <th>pf_away</th>\n",
       "      <th>pts_away</th>\n",
       "      <th>plus_minus_away</th>\n",
       "      <th>video_available_away</th>\n",
       "      <th>season_type</th>\n",
       "    </tr>\n",
       "  </thead>\n",
       "  <tbody>\n",
       "    <tr>\n",
       "      <th>65697</th>\n",
       "      <td>32022</td>\n",
       "      <td>1610616834</td>\n",
       "      <td>LBN</td>\n",
       "      <td>Team LeBron</td>\n",
       "      <td>0032200001</td>\n",
       "      <td>2023-02-19 00:00:00</td>\n",
       "      <td>LBN vs. GNS</td>\n",
       "      <td>L</td>\n",
       "      <td>221</td>\n",
       "      <td>79.0</td>\n",
       "      <td>...</td>\n",
       "      <td>46.0</td>\n",
       "      <td>43.0</td>\n",
       "      <td>8.0</td>\n",
       "      <td>1.0</td>\n",
       "      <td>12.0</td>\n",
       "      <td>2.0</td>\n",
       "      <td>184.0</td>\n",
       "      <td>9</td>\n",
       "      <td>1</td>\n",
       "      <td>All Star</td>\n",
       "    </tr>\n",
       "  </tbody>\n",
       "</table>\n",
       "<p>1 rows × 55 columns</p>\n",
       "</div>"
      ],
      "text/plain": [
       "      season_id team_id_home team_abbreviation_home team_name_home  \\\n",
       "65697     32022   1610616834                    LBN    Team LeBron   \n",
       "\n",
       "          game_id            game_date matchup_home wl_home  min  fgm_home  \\\n",
       "65697  0032200001  2023-02-19 00:00:00  LBN vs. GNS       L  221      79.0   \n",
       "\n",
       "       ...  reb_away  ast_away  stl_away  blk_away  tov_away  pf_away  \\\n",
       "65697  ...      46.0      43.0       8.0       1.0      12.0      2.0   \n",
       "\n",
       "       pts_away  plus_minus_away  video_available_away  season_type  \n",
       "65697     184.0                9                     1     All Star  \n",
       "\n",
       "[1 rows x 55 columns]"
      ]
     },
     "execution_count": 20,
     "metadata": {},
     "output_type": "execute_result"
    }
   ],
   "source": [
    "# I have data until All-Star game 2023. Good.\n",
    "\n",
    "games.iloc[-1 :]"
   ]
  }
 ],
 "metadata": {
  "kernelspec": {
   "display_name": "lewagon",
   "language": "python",
   "name": "python3"
  },
  "language_info": {
   "codemirror_mode": {
    "name": "ipython",
    "version": 3
   },
   "file_extension": ".py",
   "mimetype": "text/x-python",
   "name": "python",
   "nbconvert_exporter": "python",
   "pygments_lexer": "ipython3",
   "version": "3.10.6"
  }
 },
 "nbformat": 4,
 "nbformat_minor": 5
}
